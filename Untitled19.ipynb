{
  "cells": [
    {
      "cell_type": "markdown",
      "metadata": {
        "id": "view-in-github",
        "colab_type": "text"
      },
      "source": [
        "<a href=\"https://colab.research.google.com/github/alaeddine-hash/GL-MoyenneApp/blob/master/Untitled19.ipynb\" target=\"_parent\"><img src=\"https://colab.research.google.com/assets/colab-badge.svg\" alt=\"Open In Colab\"/></a>"
      ]
    },
    {
      "cell_type": "code",
      "execution_count": 1,
      "metadata": {
        "id": "SFkgtXzTljMG"
      },
      "outputs": [],
      "source": [
        "!apt-get install openjdk-8-jdk-headless -qq > /dev/null"
      ]
    },
    {
      "cell_type": "code",
      "execution_count": 2,
      "metadata": {
        "id": "hRHJUe7QlgvY"
      },
      "outputs": [],
      "source": [
        "!wget -q https://archive.apache.org/dist/spark/spark-3.3.1/spark-3.3.1-bin-hadoop3.tgz"
      ]
    },
    {
      "cell_type": "code",
      "execution_count": 3,
      "metadata": {
        "id": "DxmGKKieljbp"
      },
      "outputs": [],
      "source": [
        "!tar xf spark-3.3.1-bin-hadoop3.tgz"
      ]
    },
    {
      "cell_type": "code",
      "execution_count": 4,
      "metadata": {
        "id": "N_vEf91kljdM"
      },
      "outputs": [],
      "source": [
        "!pip install -q findspark"
      ]
    },
    {
      "cell_type": "code",
      "execution_count": 5,
      "metadata": {
        "id": "KRiwrZA6luCz"
      },
      "outputs": [],
      "source": [
        "import os\n",
        "os.environ[\"JAVA_HOME\"] = \"/usr/lib/jvm/java-8-openjdk-amd64\"\n",
        "os.environ[\"SPARK_HOME\"] = \"/content/spark-3.3.1-bin-hadoop3\""
      ]
    },
    {
      "cell_type": "code",
      "execution_count": 6,
      "metadata": {
        "id": "hfwUOxK_luFx"
      },
      "outputs": [],
      "source": [
        "import findspark\n",
        "findspark.init()"
      ]
    },
    {
      "cell_type": "code",
      "execution_count": 7,
      "metadata": {
        "id": "eZmPIKY4l32-"
      },
      "outputs": [],
      "source": [
        "from pyspark.sql import SparkSession"
      ]
    },
    {
      "cell_type": "code",
      "execution_count": 8,
      "metadata": {
        "id": "-qmU9mpll35y"
      },
      "outputs": [],
      "source": [
        "spark = SparkSession.builder.getOrCreate()"
      ]
    },
    {
      "cell_type": "code",
      "source": [
        "df = spark.read.format(\"csv\").load(\"/content/daily-weather (1) (1).csv\", header = True, inferSchema=True)"
      ],
      "metadata": {
        "id": "Bziu3JDbp883"
      },
      "execution_count": 9,
      "outputs": []
    },
    {
      "cell_type": "code",
      "source": [
        "df.columns"
      ],
      "metadata": {
        "id": "Q6QMiRzWqUw1",
        "outputId": "7ba4afc2-4b1a-4abf-9c96-7db6998e8f13",
        "colab": {
          "base_uri": "https://localhost:8080/"
        }
      },
      "execution_count": 10,
      "outputs": [
        {
          "output_type": "execute_result",
          "data": {
            "text/plain": [
              "['number',\n",
              " 'air_pressure_9am',\n",
              " 'air_temp_9am',\n",
              " 'avg_wind_direction_9am',\n",
              " 'avg_wind_speed_9am',\n",
              " 'max_wind_direction_9am',\n",
              " 'max_wind_speed_9am',\n",
              " 'rain_accumulation_9am',\n",
              " 'rain_duration_9am',\n",
              " 'relative_humidity_9am',\n",
              " 'relative_humidity_3pm']"
            ]
          },
          "metadata": {},
          "execution_count": 10
        }
      ]
    },
    {
      "cell_type": "code",
      "source": [
        "\n",
        "# Call the correct method to print the schema\n",
        "df.printSchema()\n"
      ],
      "metadata": {
        "id": "N1wMc9_kqdJQ",
        "outputId": "5ab6fbd9-3c32-4ed6-cf94-118d7e64a180",
        "colab": {
          "base_uri": "https://localhost:8080/"
        }
      },
      "execution_count": 13,
      "outputs": [
        {
          "output_type": "stream",
          "name": "stdout",
          "text": [
            "root\n",
            " |-- number: integer (nullable = true)\n",
            " |-- air_pressure_9am: double (nullable = true)\n",
            " |-- air_temp_9am: double (nullable = true)\n",
            " |-- avg_wind_direction_9am: double (nullable = true)\n",
            " |-- avg_wind_speed_9am: double (nullable = true)\n",
            " |-- max_wind_direction_9am: double (nullable = true)\n",
            " |-- max_wind_speed_9am: double (nullable = true)\n",
            " |-- rain_accumulation_9am: double (nullable = true)\n",
            " |-- rain_duration_9am: double (nullable = true)\n",
            " |-- relative_humidity_9am: double (nullable = true)\n",
            " |-- relative_humidity_3pm: double (nullable = true)\n",
            "\n"
          ]
        }
      ]
    },
    {
      "cell_type": "code",
      "source": [
        "df.head(5)"
      ],
      "metadata": {
        "id": "cnJGYfgmrVEM",
        "outputId": "53eae20c-6c16-4d14-9792-f809c4e14975",
        "colab": {
          "base_uri": "https://localhost:8080/"
        }
      },
      "execution_count": 14,
      "outputs": [
        {
          "output_type": "execute_result",
          "data": {
            "text/plain": [
              "[Row(number=0, air_pressure_9am=918.0600000000087, air_temp_9am=74.82200000000041, avg_wind_direction_9am=271.1, avg_wind_speed_9am=2.080354199999768, max_wind_direction_9am=295.39999999999986, max_wind_speed_9am=2.863283199999908, rain_accumulation_9am=0.0, rain_duration_9am=0.0, relative_humidity_9am=42.42000000000046, relative_humidity_3pm=36.160000000000494),\n",
              " Row(number=1, air_pressure_9am=917.3476881177097, air_temp_9am=71.40384263106537, avg_wind_direction_9am=101.93517935618371, avg_wind_speed_9am=2.4430092157340217, max_wind_direction_9am=140.47154847112498, max_wind_speed_9am=3.5333236016106238, rain_accumulation_9am=0.0, rain_duration_9am=0.0, relative_humidity_9am=24.328697291802207, relative_humidity_3pm=19.4265967985621),\n",
              " Row(number=2, air_pressure_9am=923.0400000000084, air_temp_9am=60.637999999998776, avg_wind_direction_9am=51.000000000000036, avg_wind_speed_9am=17.067852199999727, max_wind_direction_9am=63.6999999999999, max_wind_speed_9am=22.100967200000003, rain_accumulation_9am=0.0, rain_duration_9am=20.0, relative_humidity_9am=8.900000000000047, relative_humidity_3pm=14.460000000000045),\n",
              " Row(number=3, air_pressure_9am=920.5027511759195, air_temp_9am=70.13889486830053, avg_wind_direction_9am=198.83213271746368, avg_wind_speed_9am=4.337363056162703, max_wind_direction_9am=211.20334124325618, max_wind_speed_9am=5.190045360219378, rain_accumulation_9am=0.0, rain_duration_9am=0.0, relative_humidity_9am=12.189101868764444, relative_humidity_3pm=12.742547353761848),\n",
              " Row(number=4, air_pressure_9am=921.1600000000036, air_temp_9am=44.29400000000284, avg_wind_direction_9am=277.8, avg_wind_speed_9am=1.8566601999998955, max_wind_direction_9am=136.49999999999991, max_wind_speed_9am=2.863283199999954, rain_accumulation_9am=8.899999999998613, rain_duration_9am=14730.0, relative_humidity_9am=92.41000000000044, relative_humidity_3pm=76.74000000000046)]"
            ]
          },
          "metadata": {},
          "execution_count": 14
        }
      ]
    },
    {
      "cell_type": "code",
      "source": [
        "df.describe().toPandas().transpose()"
      ],
      "metadata": {
        "id": "ch-xcy5PrcKP",
        "outputId": "dc2e4d93-56ac-46bc-f28c-0cbcf5c5e5ec",
        "colab": {
          "base_uri": "https://localhost:8080/",
          "height": 490
        }
      },
      "execution_count": 15,
      "outputs": [
        {
          "output_type": "execute_result",
          "data": {
            "text/plain": [
              "                            0                    1                   2  \\\n",
              "summary                 count                 mean              stddev   \n",
              "number                   1095                547.0  316.24357700987383   \n",
              "air_pressure_9am         1092    918.8825513138094   3.184161180386833   \n",
              "air_temp_9am             1090    64.93300141287072  11.175514003175877   \n",
              "avg_wind_direction_9am   1091    142.2355107005759   69.13785928889189   \n",
              "avg_wind_speed_9am       1092     5.50828424225493  4.5528134655317185   \n",
              "max_wind_direction_9am   1092   148.95351796516923   67.23801294602953   \n",
              "max_wind_speed_9am       1091    7.019513529175272   5.598209170780958   \n",
              "rain_accumulation_9am    1089  0.20307895225211126  1.5939521253574893   \n",
              "rain_duration_9am        1092    294.1080522756142  1598.0787786601481   \n",
              "relative_humidity_9am    1095    34.24140205923536  25.472066802250055   \n",
              "relative_humidity_3pm    1095    35.34472714825898  22.524079453587273   \n",
              "\n",
              "                                         3                   4  \n",
              "summary                                min                 max  \n",
              "number                                   0                1094  \n",
              "air_pressure_9am         907.9900000000024   929.3200000000012  \n",
              "air_temp_9am            36.752000000000685   98.90599999999992  \n",
              "avg_wind_direction_9am  15.500000000000046               343.4  \n",
              "avg_wind_speed_9am        0.69345139999974  23.554978199999763  \n",
              "max_wind_direction_9am   28.89999999999991  312.19999999999993  \n",
              "max_wind_speed_9am      1.1855782000000479   29.84077959999996  \n",
              "rain_accumulation_9am                  0.0   24.01999999999907  \n",
              "rain_duration_9am                      0.0             17704.0  \n",
              "relative_humidity_9am    6.090000000001012    92.6200000000002  \n",
              "relative_humidity_3pm   5.3000000000006855    92.2500000000003  "
            ],
            "text/html": [
              "\n",
              "  <div id=\"df-ce89800a-8765-4632-bae1-b55397d66bd6\">\n",
              "    <div class=\"colab-df-container\">\n",
              "      <div>\n",
              "<style scoped>\n",
              "    .dataframe tbody tr th:only-of-type {\n",
              "        vertical-align: middle;\n",
              "    }\n",
              "\n",
              "    .dataframe tbody tr th {\n",
              "        vertical-align: top;\n",
              "    }\n",
              "\n",
              "    .dataframe thead th {\n",
              "        text-align: right;\n",
              "    }\n",
              "</style>\n",
              "<table border=\"1\" class=\"dataframe\">\n",
              "  <thead>\n",
              "    <tr style=\"text-align: right;\">\n",
              "      <th></th>\n",
              "      <th>0</th>\n",
              "      <th>1</th>\n",
              "      <th>2</th>\n",
              "      <th>3</th>\n",
              "      <th>4</th>\n",
              "    </tr>\n",
              "  </thead>\n",
              "  <tbody>\n",
              "    <tr>\n",
              "      <th>summary</th>\n",
              "      <td>count</td>\n",
              "      <td>mean</td>\n",
              "      <td>stddev</td>\n",
              "      <td>min</td>\n",
              "      <td>max</td>\n",
              "    </tr>\n",
              "    <tr>\n",
              "      <th>number</th>\n",
              "      <td>1095</td>\n",
              "      <td>547.0</td>\n",
              "      <td>316.24357700987383</td>\n",
              "      <td>0</td>\n",
              "      <td>1094</td>\n",
              "    </tr>\n",
              "    <tr>\n",
              "      <th>air_pressure_9am</th>\n",
              "      <td>1092</td>\n",
              "      <td>918.8825513138094</td>\n",
              "      <td>3.184161180386833</td>\n",
              "      <td>907.9900000000024</td>\n",
              "      <td>929.3200000000012</td>\n",
              "    </tr>\n",
              "    <tr>\n",
              "      <th>air_temp_9am</th>\n",
              "      <td>1090</td>\n",
              "      <td>64.93300141287072</td>\n",
              "      <td>11.175514003175877</td>\n",
              "      <td>36.752000000000685</td>\n",
              "      <td>98.90599999999992</td>\n",
              "    </tr>\n",
              "    <tr>\n",
              "      <th>avg_wind_direction_9am</th>\n",
              "      <td>1091</td>\n",
              "      <td>142.2355107005759</td>\n",
              "      <td>69.13785928889189</td>\n",
              "      <td>15.500000000000046</td>\n",
              "      <td>343.4</td>\n",
              "    </tr>\n",
              "    <tr>\n",
              "      <th>avg_wind_speed_9am</th>\n",
              "      <td>1092</td>\n",
              "      <td>5.50828424225493</td>\n",
              "      <td>4.5528134655317185</td>\n",
              "      <td>0.69345139999974</td>\n",
              "      <td>23.554978199999763</td>\n",
              "    </tr>\n",
              "    <tr>\n",
              "      <th>max_wind_direction_9am</th>\n",
              "      <td>1092</td>\n",
              "      <td>148.95351796516923</td>\n",
              "      <td>67.23801294602953</td>\n",
              "      <td>28.89999999999991</td>\n",
              "      <td>312.19999999999993</td>\n",
              "    </tr>\n",
              "    <tr>\n",
              "      <th>max_wind_speed_9am</th>\n",
              "      <td>1091</td>\n",
              "      <td>7.019513529175272</td>\n",
              "      <td>5.598209170780958</td>\n",
              "      <td>1.1855782000000479</td>\n",
              "      <td>29.84077959999996</td>\n",
              "    </tr>\n",
              "    <tr>\n",
              "      <th>rain_accumulation_9am</th>\n",
              "      <td>1089</td>\n",
              "      <td>0.20307895225211126</td>\n",
              "      <td>1.5939521253574893</td>\n",
              "      <td>0.0</td>\n",
              "      <td>24.01999999999907</td>\n",
              "    </tr>\n",
              "    <tr>\n",
              "      <th>rain_duration_9am</th>\n",
              "      <td>1092</td>\n",
              "      <td>294.1080522756142</td>\n",
              "      <td>1598.0787786601481</td>\n",
              "      <td>0.0</td>\n",
              "      <td>17704.0</td>\n",
              "    </tr>\n",
              "    <tr>\n",
              "      <th>relative_humidity_9am</th>\n",
              "      <td>1095</td>\n",
              "      <td>34.24140205923536</td>\n",
              "      <td>25.472066802250055</td>\n",
              "      <td>6.090000000001012</td>\n",
              "      <td>92.6200000000002</td>\n",
              "    </tr>\n",
              "    <tr>\n",
              "      <th>relative_humidity_3pm</th>\n",
              "      <td>1095</td>\n",
              "      <td>35.34472714825898</td>\n",
              "      <td>22.524079453587273</td>\n",
              "      <td>5.3000000000006855</td>\n",
              "      <td>92.2500000000003</td>\n",
              "    </tr>\n",
              "  </tbody>\n",
              "</table>\n",
              "</div>\n",
              "      <button class=\"colab-df-convert\" onclick=\"convertToInteractive('df-ce89800a-8765-4632-bae1-b55397d66bd6')\"\n",
              "              title=\"Convert this dataframe to an interactive table.\"\n",
              "              style=\"display:none;\">\n",
              "        \n",
              "  <svg xmlns=\"http://www.w3.org/2000/svg\" height=\"24px\"viewBox=\"0 0 24 24\"\n",
              "       width=\"24px\">\n",
              "    <path d=\"M0 0h24v24H0V0z\" fill=\"none\"/>\n",
              "    <path d=\"M18.56 5.44l.94 2.06.94-2.06 2.06-.94-2.06-.94-.94-2.06-.94 2.06-2.06.94zm-11 1L8.5 8.5l.94-2.06 2.06-.94-2.06-.94L8.5 2.5l-.94 2.06-2.06.94zm10 10l.94 2.06.94-2.06 2.06-.94-2.06-.94-.94-2.06-.94 2.06-2.06.94z\"/><path d=\"M17.41 7.96l-1.37-1.37c-.4-.4-.92-.59-1.43-.59-.52 0-1.04.2-1.43.59L10.3 9.45l-7.72 7.72c-.78.78-.78 2.05 0 2.83L4 21.41c.39.39.9.59 1.41.59.51 0 1.02-.2 1.41-.59l7.78-7.78 2.81-2.81c.8-.78.8-2.07 0-2.86zM5.41 20L4 18.59l7.72-7.72 1.47 1.35L5.41 20z\"/>\n",
              "  </svg>\n",
              "      </button>\n",
              "      \n",
              "  <style>\n",
              "    .colab-df-container {\n",
              "      display:flex;\n",
              "      flex-wrap:wrap;\n",
              "      gap: 12px;\n",
              "    }\n",
              "\n",
              "    .colab-df-convert {\n",
              "      background-color: #E8F0FE;\n",
              "      border: none;\n",
              "      border-radius: 50%;\n",
              "      cursor: pointer;\n",
              "      display: none;\n",
              "      fill: #1967D2;\n",
              "      height: 32px;\n",
              "      padding: 0 0 0 0;\n",
              "      width: 32px;\n",
              "    }\n",
              "\n",
              "    .colab-df-convert:hover {\n",
              "      background-color: #E2EBFA;\n",
              "      box-shadow: 0px 1px 2px rgba(60, 64, 67, 0.3), 0px 1px 3px 1px rgba(60, 64, 67, 0.15);\n",
              "      fill: #174EA6;\n",
              "    }\n",
              "\n",
              "    [theme=dark] .colab-df-convert {\n",
              "      background-color: #3B4455;\n",
              "      fill: #D2E3FC;\n",
              "    }\n",
              "\n",
              "    [theme=dark] .colab-df-convert:hover {\n",
              "      background-color: #434B5C;\n",
              "      box-shadow: 0px 1px 3px 1px rgba(0, 0, 0, 0.15);\n",
              "      filter: drop-shadow(0px 1px 2px rgba(0, 0, 0, 0.3));\n",
              "      fill: #FFFFFF;\n",
              "    }\n",
              "  </style>\n",
              "\n",
              "      <script>\n",
              "        const buttonEl =\n",
              "          document.querySelector('#df-ce89800a-8765-4632-bae1-b55397d66bd6 button.colab-df-convert');\n",
              "        buttonEl.style.display =\n",
              "          google.colab.kernel.accessAllowed ? 'block' : 'none';\n",
              "\n",
              "        async function convertToInteractive(key) {\n",
              "          const element = document.querySelector('#df-ce89800a-8765-4632-bae1-b55397d66bd6');\n",
              "          const dataTable =\n",
              "            await google.colab.kernel.invokeFunction('convertToInteractive',\n",
              "                                                     [key], {});\n",
              "          if (!dataTable) return;\n",
              "\n",
              "          const docLinkHtml = 'Like what you see? Visit the ' +\n",
              "            '<a target=\"_blank\" href=https://colab.research.google.com/notebooks/data_table.ipynb>data table notebook</a>'\n",
              "            + ' to learn more about interactive tables.';\n",
              "          element.innerHTML = '';\n",
              "          dataTable['output_type'] = 'display_data';\n",
              "          await google.colab.output.renderOutput(dataTable, element);\n",
              "          const docLink = document.createElement('div');\n",
              "          docLink.innerHTML = docLinkHtml;\n",
              "          element.appendChild(docLink);\n",
              "        }\n",
              "      </script>\n",
              "    </div>\n",
              "  </div>\n",
              "  "
            ]
          },
          "metadata": {},
          "execution_count": 15
        }
      ]
    },
    {
      "cell_type": "code",
      "source": [
        "Df1 = df.withColumn(\"ratio\", df['rain_duration_9am']/ df['rain_accumulation_9am'])"
      ],
      "metadata": {
        "id": "jjsS4yHbrtiu"
      },
      "execution_count": 17,
      "outputs": []
    },
    {
      "cell_type": "code",
      "source": [
        "Df1.select('ratio').show()"
      ],
      "metadata": {
        "id": "XvRexBMasD0j",
        "outputId": "8c55042d-bbe0-4c0c-e748-1902b60b9523",
        "colab": {
          "base_uri": "https://localhost:8080/"
        }
      },
      "execution_count": 21,
      "outputs": [
        {
          "output_type": "stream",
          "name": "stdout",
          "text": [
            "+------------------+\n",
            "|             ratio|\n",
            "+------------------+\n",
            "|              null|\n",
            "|              null|\n",
            "|              null|\n",
            "|              null|\n",
            "|1655.0561797755388|\n",
            "| 8499.999999814461|\n",
            "|              null|\n",
            "|              null|\n",
            "|              null|\n",
            "|              null|\n",
            "|              null|\n",
            "| 3218.181818182084|\n",
            "|              null|\n",
            "|              null|\n",
            "|              null|\n",
            "|              null|\n",
            "|              null|\n",
            "|              null|\n",
            "|              null|\n",
            "|              null|\n",
            "+------------------+\n",
            "only showing top 20 rows\n",
            "\n"
          ]
        }
      ]
    },
    {
      "cell_type": "code",
      "source": [
        "from pyspark.sql.functions import mean\n",
        "from pyspark.sql.functions import mean, max, min, count"
      ],
      "metadata": {
        "id": "Gx-xClAGsR7G"
      },
      "execution_count": 35,
      "outputs": []
    },
    {
      "cell_type": "code",
      "source": [
        "# Calculate the mean, max, and min of rain_duration_9am\n",
        "# Calculate the mean, max, and min of rain_duration_9am\n",
        "mean_rain_duration_9am = Df1.select(mean(\"rain_duration_9am\")).first()[0]\n",
        "max_rain_duration_9am = Df1.select(max(\"rain_duration_9am\")).first()[0]\n",
        "min_rain_duration_9am = Df1.select(min(\"rain_duration_9am\")).first()[0]\n",
        "\n",
        "# Count the occurrences where air_temp_9am > 70\n",
        "count_air_temp_9h_gt_70 = df.filter(df[\"air_temp_9am\"] > 70).count()\n",
        "\n",
        "# Print the results\n",
        "print(\"Mean rain_duration_9am: \", mean_rain_duration_9am)\n",
        "print(\"Max rain_duration_9am: \", max_rain_duration_9am)\n",
        "print(\"Min rain_duration_9am: \", min_rain_duration_9am)\n",
        "print(\"Count of air_temp_9am > 70: \", count_air_temp_9h_gt_70)"
      ],
      "metadata": {
        "id": "3Us1QTydsScY",
        "outputId": "b2bf4850-a307-47fb-89d0-96b7129c4cfc",
        "colab": {
          "base_uri": "https://localhost:8080/"
        }
      },
      "execution_count": 36,
      "outputs": [
        {
          "output_type": "stream",
          "name": "stdout",
          "text": [
            "Mean rain_duration_9am:  294.1080522756142\n",
            "Max rain_duration_9am:  17704.0\n",
            "Min rain_duration_9am:  0.0\n",
            "Count of air_temp_9am > 70:  384\n"
          ]
        }
      ]
    },
    {
      "cell_type": "code",
      "source": [
        "df.select('rain_duration_9am').head()"
      ],
      "metadata": {
        "id": "YGdVwCdntzhR",
        "outputId": "a85592cc-15d3-4d37-dc83-2b63e22d1b09",
        "colab": {
          "base_uri": "https://localhost:8080/"
        }
      },
      "execution_count": 30,
      "outputs": [
        {
          "output_type": "execute_result",
          "data": {
            "text/plain": [
              "Row(rain_duration_9am=0.0)"
            ]
          },
          "metadata": {},
          "execution_count": 30
        }
      ]
    },
    {
      "cell_type": "code",
      "source": [
        "df2=df.na.drop(subset=['air_pressure_9am'])"
      ],
      "metadata": {
        "id": "oQws-VTPtQM2"
      },
      "execution_count": 37,
      "outputs": []
    },
    {
      "cell_type": "code",
      "source": [
        "# Calculate the correlation between rain_accumulation_9am and rain_duration_9am\n",
        "correlation = Df1.corr(\"rain_accumulation_9am\", \"rain_duration_9am\")\n",
        "print(correlation)"
      ],
      "metadata": {
        "id": "lnYwHLQGs0fu",
        "outputId": "353af993-0d10-4417-870f-c8f2247c3ca9",
        "colab": {
          "base_uri": "https://localhost:8080/"
        }
      },
      "execution_count": 39,
      "outputs": [
        {
          "output_type": "stream",
          "name": "stdout",
          "text": [
            "0.733796878331099\n"
          ]
        }
      ]
    },
    {
      "cell_type": "code",
      "source": [
        "from pyspark.sql.functions import avg"
      ],
      "metadata": {
        "id": "LHaPnQEHvXgP"
      },
      "execution_count": 40,
      "outputs": []
    },
    {
      "cell_type": "code",
      "source": [
        "imputeDf = df"
      ],
      "metadata": {
        "id": "CjGZp63QsftG"
      },
      "execution_count": 41,
      "outputs": []
    },
    {
      "cell_type": "code",
      "source": [
        "for x in imputeDf.columns:\n",
        "  meanValue = imputeDf.agg(avg(x)).first()[0]\n",
        "  print(x, meanValue)\n",
        "  imputeDf = imputeDf.na.fill(meanValue, [x])\n",
        "\n"
      ],
      "metadata": {
        "id": "5aJgm28_vssR",
        "outputId": "5ba5e668-cf58-41a9-cfff-98005d11f3b6",
        "colab": {
          "base_uri": "https://localhost:8080/"
        }
      },
      "execution_count": 46,
      "outputs": [
        {
          "output_type": "stream",
          "name": "stdout",
          "text": [
            "number 547.0\n",
            "air_pressure_9am 918.8825513138094\n",
            "air_temp_9am 64.93300141287072\n",
            "avg_wind_direction_9am 142.2355107005759\n",
            "avg_wind_speed_9am 5.50828424225493\n",
            "max_wind_direction_9am 148.95351796516923\n",
            "max_wind_speed_9am 7.019513529175272\n",
            "rain_accumulation_9am 0.20307895225211126\n",
            "rain_duration_9am 294.1080522756142\n",
            "relative_humidity_9am 34.24140205923536\n",
            "relative_humidity_3pm 35.34472714825898\n"
          ]
        }
      ]
    },
    {
      "cell_type": "code",
      "source": [],
      "metadata": {
        "id": "VjSEbtyysaIU"
      },
      "execution_count": null,
      "outputs": []
    },
    {
      "cell_type": "code",
      "source": [],
      "metadata": {
        "id": "nLdS1WwusLE5"
      },
      "execution_count": null,
      "outputs": []
    },
    {
      "cell_type": "code",
      "source": [],
      "metadata": {
        "id": "t9eWuod5sInP"
      },
      "execution_count": null,
      "outputs": []
    }
  ],
  "metadata": {
    "colab": {
      "provenance": [],
      "include_colab_link": true
    },
    "kernelspec": {
      "display_name": "Python 3",
      "name": "python3"
    },
    "language_info": {
      "name": "python"
    }
  },
  "nbformat": 4,
  "nbformat_minor": 0
}